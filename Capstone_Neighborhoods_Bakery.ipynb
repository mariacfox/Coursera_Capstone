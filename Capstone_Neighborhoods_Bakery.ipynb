{
 "cells": [
  {
   "cell_type": "markdown",
   "metadata": {},
   "source": [
    "# Capstone Project: The Battle of Neighborhoods\n",
    "## Finding a location for a new bakery in Cincinnati\n",
    "\n",
    "This notebook presents my capstone project for the Applied Data Science Capstone course in the Coursera IBM Data Science Professional Certificate."
   ]
  },
  {
   "cell_type": "markdown",
   "metadata": {},
   "source": [
    "#### Table of Contents\n",
    "1. [Introduction/Business Problem](#introduction)\n",
    "2. [Data](#data)\n",
    "3. [Methodology](#methodology)\n",
    "4. [Analysis](#analysis)\n",
    "5. [Results and Discussion](#results)\n",
    "6. [Conclusion](#conclusion)"
   ]
  },
  {
   "cell_type": "markdown",
   "metadata": {},
   "source": [
    "## 1. Introduction <a name=\"introduction\"></a>"
   ]
  },
  {
   "cell_type": "markdown",
   "metadata": {},
   "source": [
    "A new bakery is hoping to open in the Cincinnati, Ohio, area, but the owners aren't sure where to open it. While Cincinnati is a fairly small city, there are distinct neighborhoods with different personalities and characteristics that might influence the success of a small new bakery in town. Additionally, the owners would be competing with several well-known local bakeries that have locations across town, such as Busken Bakery and Servatii.\n",
    "\n",
    "The owners are looking for recommendations for where to locate their bakery. They would like to know **where other successful bakeries are located and the businesses around these successful bakeries** to determine if certain areas or other venues might influence the bakery's success. Based on those characteristics, I will suggest neighborhoods that would be good candidates for opening the new bakery. I will not recommend a neighborhood if there are already two or more successful bakeries in that area. "
   ]
  },
  {
   "cell_type": "markdown",
   "metadata": {},
   "source": [
    "## 2. Data <a name=\"data\"></a>"
   ]
  },
  {
   "cell_type": "markdown",
   "metadata": {},
   "source": [
    "I will use data from the following sources to determine between one and three options for the new bakery's location:\n",
    "\n",
    "- [Cincinnati neighborhoods](https://en.wikipedia.org/wiki/List_of_Cincinnati_neighborhoods) on Wikipedia to web scrape neighborhood names\n",
    "- Foursquare API to extract venues in each neighborhood\n",
    "- Foursquare API to extract the number of likes for each venue (specifically bakeries)\n",
    "\n",
    "I will extract geographical coordinates for each neighborhood using `geopy` and eventually merge those data with the foursquare API data from each source. Since the Foursquare API calls are separate for venues and likes, I will need to merge those data as well."
   ]
  }
 ],
 "metadata": {
  "kernelspec": {
   "display_name": "Python 3",
   "language": "python",
   "name": "python3"
  },
  "language_info": {
   "codemirror_mode": {
    "name": "ipython",
    "version": 3
   },
   "file_extension": ".py",
   "mimetype": "text/x-python",
   "name": "python",
   "nbconvert_exporter": "python",
   "pygments_lexer": "ipython3",
   "version": "3.7.7"
  }
 },
 "nbformat": 4,
 "nbformat_minor": 4
}
